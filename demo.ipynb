{
 "cells": [
  {
   "cell_type": "code",
   "execution_count": null,
   "metadata": {},
   "outputs": [],
   "source": [
    "import os\n",
    "import numpy as np\n",
    "import matplotlib.pyplot as plt\n",
    "from tensorflow import keras\n",
    "from tensorflow.keras.preprocessing.image import ImageDataGenerator, load_img, img_to_array\n",
    "\n",
    "# Imposta il percorso del modello salvato\n",
    "model_path = \"modello_primo_esperimento.h5\"\n",
    "\n",
    "# Carica il modello\n",
    "model = keras.models.load_model(model_path)\n",
    "\n",
    "# Imposta le classi delle etichette (assicurati che siano nello stesso ordine utilizzato durante l'addestramento)\n",
    "class_labels = [\"Drum\", \"Electric guitar\", \"Handpan\", \"Keyboard\", \"Piano\", \"Trumpet\", \"Tuba\", \"Wind gong\"]\n",
    "\n",
    "# Imposta il percorso della directory contenente le immagini da classificare\n",
    "input_directory = \"\"\n",
    "\n",
    "# Crea un ImageDataGenerator per il preprocessing delle immagini\n",
    "data_generator = ImageDataGenerator(preprocessing_function=keras.applications.efficientnet.preprocess_input)\n",
    "\n",
    "# Carica le immagini dalla directory e effettua la classificazione\n",
    "image_data = data_generator.flow_from_directory(\n",
    "    input_directory,\n",
    "    target_size=(128, 128),\n",
    "    batch_size=1,\n",
    "    class_mode=None,\n",
    "    shuffle=False\n",
    ")\n",
    "\n",
    "# Classifica le immagini e mostra i risultati\n",
    "for i in range(len(image_data.filenames)):\n",
    "    image_array = image_data[i]\n",
    "    prediction = model.predict(image_array)[0]\n",
    "    predicted_class_index = np.argmax(prediction)\n",
    "    predicted_class_label = class_labels[predicted_class_index]\n",
    "\n",
    "    # Mostra l'immagine e la classe predetta\n",
    "    image_path = os.path.join(input_directory, image_data.filenames[i])\n",
    "    image = load_img(image_path, target_size=(128, 128))\n",
    "    plt.figure()\n",
    "    plt.imshow(image)\n",
    "    plt.title(f\"Predicted Class: {predicted_class_label}\")\n",
    "    plt.axis('off')\n",
    "    plt.show()\n"
   ]
  }
 ],
 "metadata": {
  "language_info": {
   "name": "python"
  },
  "orig_nbformat": 4
 },
 "nbformat": 4,
 "nbformat_minor": 2
}
